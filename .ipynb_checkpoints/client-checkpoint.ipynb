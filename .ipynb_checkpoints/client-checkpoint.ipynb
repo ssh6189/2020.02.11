{
 "cells": [
  {
   "cell_type": "code",
   "execution_count": 2,
   "metadata": {
    "ExecuteTime": {
     "end_time": "2020-02-11T01:19:27.572104Z",
     "start_time": "2020-02-11T01:19:27.566105Z"
    }
   },
   "outputs": [
    {
     "name": "stdout",
     "output_type": "stream",
     "text": [
      "서버 접속 성공\n",
      "send messae\n",
      "receive : hello\n",
      "종료\n"
     ]
    }
   ],
   "source": [
    "import socket\n",
    "\n",
    "sock = socket.socket(socket.AF_INET, socket.SOCK_STREAM)\n",
    "\n",
    "#자기 서버에 접속할것이니까, local host\n",
    "\n",
    "#어느 IP, 포트번호 몇번\n",
    "#어느 주소로 접속을 할지\n",
    "sock.connect(('localhost', 12340))\n",
    "print(\"서버 접속 성공\")\n",
    "\n",
    "#데이터를 보낼때는 인코딩을 해서 보낸다. C나 자바는 바이트데이터를 다룰 수 있는 언어, 파이썬은 바이트가 아니라, 캐릭터가 기본이다.\n",
    "#서버로 hello라는 메세지를 보낸다. 데이터를 보낼때는 인코딩을 해서 보내야 한다.\n",
    "#서버에게 보낼 때 쓰는것\n",
    "sock.send('hello'.encode())\n",
    "print(\"send messae\")\n",
    "\n",
    "#서버로부터 받을 때 쓰는것\n",
    "data = sock.recv(65535)\n",
    "\n",
    "#글자를 제대로 보려면, decoding으로 해독을 해야한다.\n",
    "print(\"receive : \" + data.decode())\n",
    "print(\"종료\")"
   ]
  }
 ],
 "metadata": {
  "kernelspec": {
   "display_name": "Python 3",
   "language": "python",
   "name": "python3"
  },
  "language_info": {
   "codemirror_mode": {
    "name": "ipython",
    "version": 3
   },
   "file_extension": ".py",
   "mimetype": "text/x-python",
   "name": "python",
   "nbconvert_exporter": "python",
   "pygments_lexer": "ipython3",
   "version": "3.6.10"
  }
 },
 "nbformat": 4,
 "nbformat_minor": 4
}
