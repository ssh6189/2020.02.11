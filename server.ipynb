{
 "cells": [
  {
   "cell_type": "code",
   "execution_count": null,
   "metadata": {
    "ExecuteTime": {
     "start_time": "2020-02-11T04:16:42.545Z"
    }
   },
   "outputs": [
    {
     "name": "stdout",
     "output_type": "stream",
     "text": [
      "listening\n"
     ]
    }
   ],
   "source": [
    "import socket\n",
    "\n",
    "#UDP는 선이 없다.\n",
    "#첫번째 : 주소체계 지정인자, IP를 기반으로, 소켓을 만들겠다. 두번째 : 소켓의 타입, TCP를 쓸것이냐? UDP를 쓸것이냐?\n",
    "server_socket = socket.socket(socket.AF_INET, socket.SOCK_STREAM)\n",
    "\n",
    "#클라이언트에서는 필요 없고, 서버를 만들때, 필요한 메서드로 튜플 형식을 받게 되어있다.\n",
    "#튜플의 앞 부분-ip address    :    \"(공백)을 입력하면 루프 백 주소로 자기 자신을 의미한다.\n",
    "#튜플의 뒷 부분-port number\n",
    "server_socket.bind(('localhost', 12340))\n",
    "\n",
    "#서버가 데이터 수신을 기다리는 상태로 인자 값으로 들어가는 숫자는 해당 소켓이 몇 개의 동시접속을 허용할 것이냐는 의미이다.\n",
    "server_socket.listen(0)\n",
    "print(\"listening\")\n",
    "\n",
    "#누군가 나에게 접속요청을 하면, 데이터를 보내야한다.\n",
    "#소켓에 누군가가 접속하여 연결되었을 때 결과 값이 튜플로 return 되는 함수다. return 값은 새로운 소켓과 상대방의 AF(Address Family)를 전달한다.\n",
    "#이 이후 부터의 데이터 송수신은 새로운 소켓(accept socket)을 이용한다.\n",
    "\n",
    "client_socket, addr = server_socket.accept()\n",
    "print(\"accepting\")\n",
    "\n",
    "#recv : 클라이언트로부터 받은 데이터가 있으면, 읽어주세요.\n",
    "#최대 64K까지 받아 낼 수 있다.\n",
    "\n",
    "#socket.sendall(), socket.recv()`\n",
    "\n",
    "\n",
    "#데이터를 송수신 하는 메소드다.\n",
    "\n",
    "#여기서 몇 가지 주의해야 할 점은 클라이언트는 기존의 소켓으로 송수신을 하는 반면, 서버는 accpet()로 생성된 소켓으로 송수신을 한다는 것이다.\n",
    "\n",
    "#그리고 문자열을 전송할 때 encode()를 수행해 줘야 하는데, 이 encode() 메소드는 문자열을 byte로 변환해주는 메소드다.\n",
    "\n",
    "#파이썬 내부에서 생성된 문자열은 파이썬에서 생성된 객체이므로 전송 계층에 문자열을 그대로 보내면 에러가 발생한다.\n",
    "\n",
    "#물론 이 문자열을 읽어 출력할 때는 decode()를 사용해야 한다.\n",
    "\n",
    "#마지막으로 소켓은 턴 바이 턴 형식이기 때문에 데이터를 한 번 송신하면 다음은 수신을 해야 한다. \n",
    "\n",
    "data = client_socket.recv(65535)\n",
    "\n",
    "print(\"receive : \" + data.decode())\n",
    "\n",
    "client_socket.send(data)\n",
    "print(\"send_data\")\n",
    "#커널 종료\n",
    "client_socket.close()\n",
    "print(\"종료\")"
   ]
  },
  {
   "cell_type": "code",
   "execution_count": null,
   "metadata": {
    "ExecuteTime": {
     "start_time": "2020-02-11T04:16:42.546Z"
    }
   },
   "outputs": [],
   "source": [
    "import socket\n",
    "\n",
    "#simple http server\n",
    "server_socket = socket.socket(socket.AF_INET, socket.SOCK_STREAM)\n",
    "\n",
    "#80번으로 하면, 브라우저가 보내준 값을 받아 볼 수 있다. 안되면, 81 중복만 되지 않으면 된다.\n",
    "server_socket.bind(('localhost', 80))\n",
    "\n",
    "#리스닝을 통해서 최소 듣고 있는 상태가 되어야한다.\n",
    "#엽데이트를 통해 받아 들인다.\n",
    "#특정 포트를 리스닝 한다.\n",
    "server_socket.listen(0)\n",
    "print(\"listening\")\n",
    "\n",
    "#누군가 나에게 접속요청을 하면, 데이터를 보내야한다.\n",
    "client_socket, addr = server_socket.accept()\n",
    "print(\"accepting\")\n",
    "\n",
    "#recv : 클라이언트로부터 받은 데이터가 있으면, 읽어주세요.\n",
    "#최대 64K까지 받아 낼 수 있다.\n",
    "#생각보다 많은 데이터를 브라우저로부터 받을 수 있다.\n",
    "data = client_socket.recv(65535)\n",
    "\n",
    "print(\"receive : \" + data.decode())\n",
    "\n",
    "#커널 종료\n",
    "client_socket.close()"
   ]
  },
  {
   "cell_type": "code",
   "execution_count": null,
   "metadata": {
    "ExecuteTime": {
     "start_time": "2020-02-11T04:16:42.548Z"
    }
   },
   "outputs": [],
   "source": [
    "import socket\n",
    "\n",
    "#simple http server\n",
    "server_socket = socket.socket(socket.AF_INET, socket.SOCK_STREAM)\n",
    "\n",
    "server_socket.bind(('localhost', 80))\n",
    "\n",
    "#대기\n",
    "server_socket.listen(0)\n",
    "print(\"listening\")\n",
    "\n",
    "client_socket, addr = server_socket.accept()\n",
    "print(\"accepting\")\n",
    "\n",
    "data = client_socket.recv(65535)\n",
    "\n",
    "print(\"receive : \" + data.decode())\n",
    "\n",
    "client_socket.send('HTTP/1.0 200OK\\r\\n\\r\\n<font color = red>Hello</font>'.encode(\"utf-8\"))\n",
    "\n",
    "client_socket.close()"
   ]
  },
  {
   "cell_type": "code",
   "execution_count": null,
   "metadata": {
    "ExecuteTime": {
     "start_time": "2020-02-11T04:16:42.549Z"
    }
   },
   "outputs": [],
   "source": [
    "import socket\n",
    "\n",
    "#simple http server\n",
    "server_socket = socket.socket(socket.AF_INET, socket.SOCK_STREAM)\n",
    "\n",
    "#80번으로 하면, 브라우저가 보내준값을 받아 볼 수 있다. 안되면, 81\n",
    "server_socket.bind(('localhost', 80))\n",
    "\n",
    "#리스닝을 통해서 최소 듣고 있는 상태가 되어야한다.\n",
    "#엽데이트를 통해 받아 들인다.\n",
    "#특정 포트를 리스닝 한다.\n",
    "server_socket.listen(0)\n",
    "print(\"listening\")\n",
    "\n",
    "while True:\n",
    "    #누군가 나에게 접속요청을 하면, 데이터를 보내야한다. 일종의 대기모드\n",
    "    client_socket, addr = server_socket.accept()\n",
    "    print(\"accepting\")\n",
    "\n",
    "    #recv : 클라이언트로부터 받은 데이터가 있으면, 읽어주세요.\n",
    "    #최대 64K까지 받아 낼 수 있다.\n",
    "    #생각보다 많은 데이터를 브라우저로부터 받을 수 있다.\n",
    "    data = client_socket.recv(65535)\n",
    "\n",
    "    print(\"receive : \" + data.decode())\n",
    "\n",
    "    #header 정보 : 200이 오면, 정상적인 값이 들어오는구나, 그리고, body 정보 : Hello를 출력\n",
    "    #보낼때는 늘, 인코딩 유의\n",
    "    #항상 이 양식을 유지해야한다. 엔터코드 하나가 : \\r\\n, 옛날 타자기 생각, n이 내리는것, r이 맨 앞으로 당기는것\n",
    "    #127.0.0.1로 가면, 또는 본인이 작성한 html 파일에 들어가면, hello가 만들어진다.\n",
    "    #http는 데이터를 보내놓고 접속을 끊는다.\n",
    "    \n",
    "    client_socket.send('HTTP/1.0 200OK\\r\\n\\r\\n<font color = red>Hello</font>'.encode(\"utf-8\"))\n",
    "\n",
    "    #커널 종료\n",
    "    client_socket.close()"
   ]
  },
  {
   "cell_type": "code",
   "execution_count": null,
   "metadata": {
    "ExecuteTime": {
     "start_time": "2020-02-11T04:16:42.550Z"
    }
   },
   "outputs": [],
   "source": [
    "import socket\n",
    "from datetime import datetime\n",
    "#simple http server\n",
    "server_socket = socket.socket(socket.AF_INET, socket.SOCK_STREAM)\n",
    "\n",
    "#80번으로 하면, 브라우저가 보내준값을 받아 볼 수 있다. 안되면, 81\n",
    "server_socket.bind(('localhost', 80))\n",
    "\n",
    "#리스닝을 통해서 최소 듣고 있는 상태가 되어야한다.\n",
    "#엽데이트를 통해 받아 들인다.\n",
    "#특정 포트를 리스닝 한다.\n",
    "server_socket.listen(0)\n",
    "print(\"listening\")\n",
    "\n",
    "#받아서 읽고 보내고, 여기서 recv는 읽는것으로 해석, 항상, 송수신을 번갈아 가면서 해야한다.\n",
    "while True:\n",
    "    #누군가 나에게 접속요청을 하면, 데이터를 보내야한다. 일종의 대기모드\n",
    "    client_socket, addr = server_socket.accept()\n",
    "    print(\"accepting\")\n",
    "\n",
    "    #recv : 클라이언트로부터 받은 데이터가 있으면, 읽어주세요.\n",
    "    #최대 64K까지 받아 낼 수 있다.\n",
    "    #생각보다 많은 데이터를 브라우저로부터 받을 수 있다.\n",
    "    data = client_socket.recv(65535)\n",
    "\n",
    "    print(\"receive : \" + data.decode())\n",
    "\n",
    "    #header 정보 : 200이 오면, 정상적인 값이 들어오는구나, 그리고, body 정보 : Hello를 출력\n",
    "    #보낼때는 늘, 인코딩 유의\n",
    "    #항상 이 양식을 유지해야한다. 엔터코드 하나가 : \\r\\n, 옛날 타자기 생각, n이 내리는것, r이 맨 앞으로 당기는것\n",
    "    #127.0.0.1로 가면, 또는 본인이 작성한 html 파일에 들어가면, hello가 만들어진다.\n",
    "    #http는 데이터를 보내놓고 접속을 끊는다.\n",
    "    \n",
    "    header = 'HTTP/1.0 200 OK\\r\\n\\r\\n'\n",
    "    html = \"hello\" + str(datetime.now())\n",
    "    client_socket.send(header.encode(\"utf-8\"))\n",
    "    client_socket.send(html.encode(\"utf-8\"))\n",
    "\n",
    "    #커널 종료\n",
    "    client_socket.close()"
   ]
  },
  {
   "cell_type": "code",
   "execution_count": null,
   "metadata": {
    "ExecuteTime": {
     "start_time": "2020-02-11T04:16:42.551Z"
    }
   },
   "outputs": [],
   "source": [
    "import socket\n",
    "from datetime import datetime\n",
    "#simple http server\n",
    "server_socket = socket.socket(socket.AF_INET, socket.SOCK_STREAM)\n",
    "\n",
    "#80번으로 하면, 브라우저가 보내준값을 받아 볼 수 있다. 안되면, 81\n",
    "server_socket.bind(('localhost', 80))\n",
    "\n",
    "#리스닝을 통해서 최소 듣고 있는 상태가 되어야한다.\n",
    "#엽데이트를 통해 받아 들인다.\n",
    "#특정 포트를 리스닝 한다.\n",
    "server_socket.listen(0)\n",
    "print(\"listening\")\n",
    "\n",
    "#받아서 읽고 보내고, 여기서 recv는 읽는것으로 해석, 항상, 송수신을 번갈아 가면서 해야한다.\n",
    "if True:\n",
    "    #누군가 나에게 접속요청을 하면, 데이터를 보내야한다. 일종의 대기모드\n",
    "    client_socket, addr = server_socket.accept()\n",
    "    print(\"accepting\")\n",
    "    \n",
    "    #recv : 클라이언트로부터 받은 데이터가 있으면, 읽어주세요.\n",
    "    #최대 64K까지 받아 낼 수 있다.\n",
    "    #생각보다 많은 데이터를 브라우저로부터 받을 수 있다.\n",
    "    data = client_socket.recv(65535)\n",
    "    data = data.decode()\n",
    "    \n",
    "    headers = data.split(\"\\r\\n\")\n",
    "    print(headers[0])\n",
    "    print(headers[0].split(\" \")[1])\n",
    "\n",
    "    client_socket.send('HTTP/1.0 200 OK\\r\\n\\r\\n<font color = red>Hello</font>'.encode(\"utf-8\"))\n",
    "\n",
    "    #커널 종료\n",
    "    client_socket.close()"
   ]
  },
  {
   "cell_type": "code",
   "execution_count": null,
   "metadata": {
    "ExecuteTime": {
     "start_time": "2020-02-11T04:16:42.552Z"
    }
   },
   "outputs": [],
   "source": [
    "import socket\n",
    "from datetime import datetime\n",
    "\n",
    "#/는 절대 경로, ./나 아무것도 안써주면, 상대경로\n",
    "\n",
    "filename = \"./index.html\"\n",
    "\n",
    "#rt : 텍스트, rb : 바이너리\n",
    "file = open(filename, 'rt', encoding = 'utf-8')\n",
    "\n",
    "print(file.read())"
   ]
  },
  {
   "cell_type": "code",
   "execution_count": null,
   "metadata": {
    "ExecuteTime": {
     "start_time": "2020-02-11T04:16:42.553Z"
    }
   },
   "outputs": [],
   "source": [
    "import socket\n",
    "from datetime import datetime\n",
    "\n",
    "server_socket = socket.socket(socket.AF_INET, socket.SOCK_STREAM)\n",
    "\n",
    "server_socket.bind(('localhost', 80))\n",
    "server_socket.listen(0)\n",
    "print(\"listening\")\n",
    "\n",
    "if  True :\n",
    "    client_socket, addr = server_socket.accept()\n",
    "    print(\"accepting\")\n",
    "    data = client_socket.recv(65535)    \n",
    "    data = data.decode()\n",
    "    \n",
    "    headers = data.split(\"\\r\\n\")\n",
    "    filename = headers[0].split(\" \")[1]\n",
    "    file = open(\".\"+ filename, 'rt', encoding='utf-8')\n",
    "    html = file.read()\n",
    "    \n",
    "    header = 'HTTP/1.0 200 OK\\r\\n\\r\\n'    \n",
    "    \n",
    "    client_socket.send(header.encode(\"utf-8\"))\n",
    "    client_socket.send(html.encode(\"utf-8\"))\n",
    "    client_socket.close()"
   ]
  },
  {
   "cell_type": "code",
   "execution_count": 14,
   "metadata": {
    "ExecuteTime": {
     "end_time": "2020-02-11T04:41:35.649798Z",
     "start_time": "2020-02-11T04:40:21.946723Z"
    }
   },
   "outputs": [
    {
     "name": "stdout",
     "output_type": "stream",
     "text": [
      "listening\n",
      "accepting\n"
     ]
    }
   ],
   "source": [
    "import socket\n",
    "from datetime import datetime\n",
    "\n",
    "server_socket = socket.socket(socket.AF_INET, socket.SOCK_STREAM)\n",
    "\n",
    "server_socket.bind(('localhost', 80))\n",
    "server_socket.listen(0)\n",
    "print(\"listening\")\n",
    "\n",
    "if  True :\n",
    "    client_socket, addr = server_socket.accept()\n",
    "    print(\"accepting\")\n",
    "    data = client_socket.recv(65535)    \n",
    "    data = data.decode()\n",
    "    \n",
    "    headers = data.split(\"\\r\\n\")\n",
    "    filename = headers[0].split(\" \")[1]\n",
    "    file = open(\".\"+ filename, 'rt', encoding='utf-8')\n",
    "    html = file.read()\n",
    "    \n",
    "    header = 'HTTP/1.0 200 OK\\r\\n\\r\\n'    \n",
    "    \n",
    "    client_socket.send(header.encode(\"utf-8\"))\n",
    "    client_socket.send(html.encode(\"utf-8\"))\n",
    "    client_socket.close()"
   ]
  },
  {
   "cell_type": "code",
   "execution_count": null,
   "metadata": {
    "ExecuteTime": {
     "start_time": "2020-02-11T05:06:06.352Z"
    }
   },
   "outputs": [
    {
     "name": "stdout",
     "output_type": "stream",
     "text": [
      "listening\n",
      "accepting\n",
      "GET /index.html HTTP/1.1\n",
      "Host: 127.0.0.1\n",
      "Connection: keep-alive\n",
      "Cache-Control: max-age=0\n",
      "Upgrade-Insecure-Requests: 1\n",
      "User-Agent: Mozilla/5.0 (Windows NT 10.0; Win64; x64) AppleWebKit/537.36 (KHTML, like Gecko) Chrome/79.0.3945.130 Safari/537.36\n",
      "Sec-Fetch-User: ?1\n",
      "Accept: text/html,application/xhtml+xml,application/xml;q=0.9,image/webp,image/apng,*/*;q=0.8,application/signed-exchange;v=b3;q=0.9\n",
      "Sec-Fetch-Site: none\n",
      "Sec-Fetch-Mode: navigate\n",
      "Accept-Encoding: gzip, deflate, br\n",
      "Accept-Language: ko-KR,ko;q=0.9,en-US;q=0.8,en;q=0.7\n",
      "\n",
      "\n",
      "accepting\n",
      "GET /dice.jpg HTTP/1.1\n",
      "Host: 127.0.0.1\n",
      "Connection: keep-alive\n",
      "User-Agent: Mozilla/5.0 (Windows NT 10.0; Win64; x64) AppleWebKit/537.36 (KHTML, like Gecko) Chrome/79.0.3945.130 Safari/537.36\n",
      "Accept: image/webp,image/apng,image/*,*/*;q=0.8\n",
      "Sec-Fetch-Site: same-origin\n",
      "Sec-Fetch-Mode: no-cors\n",
      "Referer: http://127.0.0.1/index.html\n",
      "Accept-Encoding: gzip, deflate, br\n",
      "Accept-Language: ko-KR,ko;q=0.9,en-US;q=0.8,en;q=0.7\n",
      "\n",
      "\n",
      "accepting\n",
      "GET /favicon.ico HTTP/1.1\n",
      "Host: 127.0.0.1\n",
      "Connection: keep-alive\n",
      "User-Agent: Mozilla/5.0 (Windows NT 10.0; Win64; x64) AppleWebKit/537.36 (KHTML, like Gecko) Chrome/79.0.3945.130 Safari/537.36\n",
      "Accept: image/webp,image/apng,image/*,*/*;q=0.8\n",
      "Sec-Fetch-Site: same-origin\n",
      "Sec-Fetch-Mode: no-cors\n",
      "Referer: http://127.0.0.1/index.html\n",
      "Accept-Encoding: gzip, deflate, br\n",
      "Accept-Language: ko-KR,ko;q=0.9,en-US;q=0.8,en;q=0.7\n",
      "\n",
      "\n",
      "accepting\n",
      "\n",
      "list index out of range\n",
      "accepting\n",
      "\n",
      "list index out of range\n",
      "accepting\n",
      "\n",
      "list index out of range\n"
     ]
    }
   ],
   "source": [
    "import socket\n",
    "from datetime import datetime\n",
    "\n",
    "server_socket = socket.socket(socket.AF_INET, socket.SOCK_STREAM)\n",
    "\n",
    "server_socket.bind(('localhost', 80))\n",
    "server_socket.listen(0)\n",
    "print(\"listening\")\n",
    "\n",
    "while True :\n",
    "    client_socket, addr = server_socket.accept()\n",
    "    print(\"accepting\")\n",
    "    data = client_socket.recv(65535)    \n",
    "    data = data.decode()\n",
    "    print(data)        \n",
    "    \n",
    "    try :    \n",
    "        headers = data.split(\"\\r\\n\")\n",
    "        filename = headers[0].split(\" \")[1]\n",
    "\n",
    "        if '.html' in filename:\n",
    "            file = open(\".\"+ filename, 'rt', encoding='utf-8')\n",
    "            html = file.read()    \n",
    "            header = 'HTTP/1.0 200 OK\\r\\n\\r\\n'        \n",
    "            client_socket.send(header.encode(\"utf-8\"))\n",
    "            client_socket.send(html.encode(\"utf-8\"))\n",
    "        elif '.jpg' in filename or '.ico' in filename:         \n",
    "            client_socket.send('HTTP/1.1 200 OK\\r\\n'.encode())\n",
    "            client_socket.send(\"Content-Type: image/\\r\\n\".encode())\n",
    "            client_socket.send(\"Accept-Ranges: bytes\\r\\n\\r\\n\".encode())\n",
    "            file = open(\".\" + filename, \"rb\")            \n",
    "            client_socket.send(file.read())  \n",
    "            file.close()               \n",
    "        else :\n",
    "            header = 'HTTP/1.0 404 File Not Found\\r\\n\\r\\n'        \n",
    "            client_socket.send(header.encode(\"utf-8\"))\n",
    "    except Exception as e :\n",
    "        print(e)         \n",
    "    client_socket.close()"
   ]
  },
  {
   "cell_type": "code",
   "execution_count": 4,
   "metadata": {
    "ExecuteTime": {
     "end_time": "2020-02-11T06:15:26.411938Z",
     "start_time": "2020-02-11T06:15:23.589998Z"
    }
   },
   "outputs": [
    {
     "name": "stdout",
     "output_type": "stream",
     "text": [
      "listening\n",
      "accepting\n"
     ]
    }
   ],
   "source": [
    "import socket\n",
    "import subprocess\n",
    "\n",
    "server_socket = socket.socket(socket.AF_INET, socket.SOCK_STREAM)\n",
    "\n",
    "server_socket.bind(('localhost', 80))\n",
    "server_socket.listen(0)\n",
    "print(\"listening\")\n",
    "\n",
    "if  True :\n",
    "    client_socket, addr = server_socket.accept()\n",
    "    print(\"accepting\")\n",
    "    data = client_socket.recv(65535)    \n",
    "    data = data.decode()\n",
    "    #print(data)        \n",
    "    \n",
    "    try :    \n",
    "        headers = data.split(\"\\r\\n\")\n",
    "        filename = headers[0].split(\" \")[1]\n",
    "        \n",
    "        #특정한 어플리케이션 실행 가능#파이썬이 서버에서 실행이 되고, 브라우저에는 결과만 표시, 그게 서버사이드 프로그램\n",
    "        if '.py' in filename:\n",
    "            header = 'HTTP/1.0 200 OK\\r\\n\\r\\n'   \n",
    "            html = subprocess.check_output(['python.exe', '.' + filename])\n",
    "            html = html.decode('cp949')\n",
    "            client_socket.send(header.encode(\"utf-8\"))    \n",
    "            client_socket.send(html.encode(\"utf-8\"))            \n",
    "        elif '.html' in filename:\n",
    "            file = open(\".\"+ filename, 'rt', encoding='utf-8')\n",
    "            html = file.read()    \n",
    "            header = 'HTTP/1.0 200 OK\\r\\n\\r\\n'        \n",
    "            client_socket.send(header.encode(\"utf-8\"))\n",
    "            client_socket.send(html.encode(\"utf-8\"))\n",
    "        elif '.jpg' in filename or '.ico' in filename:         \n",
    "            client_socket.send('HTTP/1.1 200 OK\\r\\n'.encode())\n",
    "            client_socket.send(\"Content-Type: image/jpg\\r\\n\".encode())\n",
    "            client_socket.send(\"Accept-Ranges: bytes\\r\\n\\r\\n\".encode())\n",
    "            file = open(\".\" + filename, \"rb\")            \n",
    "            client_socket.send(file.read())  \n",
    "            file.close()               \n",
    "        else :\n",
    "            header = 'HTTP/1.0 404 File Not Found\\r\\n\\r\\n'        \n",
    "            client_socket.send(header.encode(\"utf-8\"))\n",
    "            \n",
    "    except Exception as e :\n",
    "        print(e)         \n",
    "    client_socket.close()"
   ]
  },
  {
   "cell_type": "code",
   "execution_count": null,
   "metadata": {
    "ExecuteTime": {
     "start_time": "2020-02-11T06:21:59.778Z"
    }
   },
   "outputs": [],
   "source": [
    "import subprocess\n",
    "\n",
    "\n",
    "output = subprocess.check_output(['python.exe', 'test.py'])\n",
    "print(output)\n",
    "#우리가 많이 사용하던, 문자열 타입\n",
    "print(type(output.decode()))\n",
    "print(output.decode())\n",
    "#cp949를 안하면, 바이트 코드가 나온다.\n",
    "print(output.decode('cp949'))"
   ]
  },
  {
   "cell_type": "code",
   "execution_count": null,
   "metadata": {
    "ExecuteTime": {
     "start_time": "2020-02-11T07:57:28.389Z"
    },
    "scrolled": true
   },
   "outputs": [],
   "source": [
    "import socket\n",
    "import threading\n",
    "from datetime import datetime\n",
    "import subprocess\n",
    "\n",
    "def httpprocess(client_socket) :\n",
    "    data = client_socket.recv(65535)   \n",
    "    data = data.decode()\n",
    "    print(data)\n",
    "    try :    \n",
    "        headers = data.split(\"\\r\\n\")\n",
    "        filename = headers[0].split(\" \")[1]\n",
    "        \n",
    "        if '.py' in filename:\n",
    "            header = 'HTTP/1.0 200 OK\\r\\n\\r\\n'   \n",
    "            html = subprocess.check_output(['python.exe', '.' + filename])\n",
    "            html = html.decode('cp949')\n",
    "            client_socket.send(header.encode(\"utf-8\"))    \n",
    "            client_socket.send(html.encode(\"utf-8\"))            \n",
    "        elif '.html' in filename:\n",
    "            file = open(\".\"+ filename, 'rt', encoding='utf-8')\n",
    "            html = file.read()    \n",
    "            header = 'HTTP/1.0 200 OK\\r\\n\\r\\n'        \n",
    "            client_socket.send(header.encode(\"utf-8\"))\n",
    "            client_socket.send(html.encode(\"utf-8\"))\n",
    "        elif '.jpg' in filename or '.ico' in filename:         \n",
    "            client_socket.send('HTTP/1.1 200 OK\\r\\n'.encode())\n",
    "            client_socket.send(\"Content-Type: image/jpg\\r\\n\".encode())\n",
    "            client_socket.send(\"Accept-Ranges: bytes\\r\\n\\r\\n\".encode())\n",
    "            file = open(\".\" + filename, \"rb\")            \n",
    "            client_socket.send(file.read())  \n",
    "            file.close()               \n",
    "        else :\n",
    "            header = 'HTTP/1.0 404 File Not Found\\r\\n\\r\\n'        \n",
    "            client_socket.send(header.encode(\"utf-8\"))\n",
    "    except Exception as e :\n",
    "        print(e)         \n",
    "    client_socket.close()\n",
    "\n",
    "\n",
    "server_socket = socket.socket(socket.AF_INET, socket.SOCK_STREAM)\n",
    "server_socket.bind(('localhost', 80))\n",
    "server_socket.listen(0)\n",
    "print(\"listening\")\n",
    "\n",
    "while  True :\n",
    "    client_socket, addr = server_socket.accept()\n",
    "    client_socket.settimeout(3)\n",
    "    print(\"accepting\")\n",
    "    t = threading.Thread(target=httpprocess, args=(client_socket,))\n",
    "    t.start()"
   ]
  },
  {
   "cell_type": "code",
   "execution_count": 2,
   "metadata": {
    "ExecuteTime": {
     "end_time": "2020-02-11T07:49:15.192295Z",
     "start_time": "2020-02-11T07:49:15.174591Z"
    }
   },
   "outputs": [
    {
     "name": "stdout",
     "output_type": "stream",
     "text": [
      "hello 안녕하세요. test 이순신 item ^^\n"
     ]
    }
   ],
   "source": [
    "html = \"hello @v1 test @v2 item @v3\"\n",
    "\n",
    "html = html.replace(\"@v1\", \"안녕하세요.\")\n",
    "html = html.replace(\"@v2\", \"이순신\")\n",
    "html = html.replace(\"@v3\", \"^^\")\n",
    "\n",
    "print(html)"
   ]
  },
  {
   "cell_type": "code",
   "execution_count": 1,
   "metadata": {
    "ExecuteTime": {
     "end_time": "2020-02-11T07:59:09.989624Z",
     "start_time": "2020-02-11T07:59:09.975709Z"
    }
   },
   "outputs": [
    {
     "name": "stdout",
     "output_type": "stream",
     "text": [
      "hello 안녕하세요   test 이순신   item ^^ \n",
      "<html>\n",
      "   <head>\n",
      "      <meta charset=\"utf-8\">\n",
      "   </head>\n",
      "\n",
      "   <body>\n",
      "       <font color=red> 나의 홈페이지</font>\n",
      "     <table border=1>\n",
      "             <tr>\n",
      "                  <td> 이름 </td>  <td> 이순신 </td> \n",
      "             </tr>  \n",
      "             <tr>\n",
      "                  <td> email </td>  <td> ^^ </td> \n",
      "             </tr>\n",
      "     </table>\n",
      "   </body>\n",
      "</html>\n"
     ]
    },
    {
     "data": {
      "text/html": [
       "<html>\n",
       "   <head>\n",
       "      <meta charset=\"utf-8\">\n",
       "   </head>\n",
       "\n",
       "   <body>\n",
       "       <font color=red> 나의 홈페이지</font>\n",
       "     <table border=1>\n",
       "             <tr>\n",
       "                  <td> 이름 </td>  <td> 이순신 </td> \n",
       "             </tr>  \n",
       "             <tr>\n",
       "                  <td> email </td>  <td> ^^ </td> \n",
       "             </tr>\n",
       "     </table>\n",
       "   </body>\n",
       "</html>"
      ],
      "text/plain": [
       "<IPython.core.display.HTML object>"
      ]
     },
     "execution_count": 1,
     "metadata": {},
     "output_type": "execute_result"
    }
   ],
   "source": [
    "#이렇게 되면, 디자이너하고, 개발자하고 영역이 분리되어 싸울일이 없다.\n",
    "from IPython.core.display import HTML\n",
    "\n",
    "def render(html, data) :\n",
    "    for v in data :\n",
    "        html = html.replace(\"@\"+v, data[v])\n",
    "    return html\n",
    "\n",
    "def renderfile(file, data) :\n",
    "    html = open(file, \"rt\", encoding=\"utf-8\").read()\n",
    "    for v in data :\n",
    "        html = html.replace(\"@\"+v, data[v])\n",
    "    return html\n",
    "\n",
    "html = \"hello @v1   test @v2   item @v3 \"\n",
    "data = {\"v1\":\"안녕하세요\",  \"v2\":\"이순신\", \"v3\":\"^^\"}\n",
    "html = render(html, data)\n",
    "print(html)\n",
    "\n",
    "data = {\"title\":\"나의 홈페이지\",  \"name\":\"이순신\", \"email\":\"^^\"}\n",
    "print(renderfile(\"template.html\", data))\n",
    "HTML(renderfile(\"template.html\", data))"
   ]
  },
  {
   "cell_type": "code",
   "execution_count": 4,
   "metadata": {
    "ExecuteTime": {
     "end_time": "2020-02-11T07:49:20.521058Z",
     "start_time": "2020-02-11T07:49:20.518066Z"
    }
   },
   "outputs": [],
   "source": []
  }
 ],
 "metadata": {
  "kernelspec": {
   "display_name": "Python 3",
   "language": "python",
   "name": "python3"
  },
  "language_info": {
   "codemirror_mode": {
    "name": "ipython",
    "version": 3
   },
   "file_extension": ".py",
   "mimetype": "text/x-python",
   "name": "python",
   "nbconvert_exporter": "python",
   "pygments_lexer": "ipython3",
   "version": "3.6.10"
  }
 },
 "nbformat": 4,
 "nbformat_minor": 2
}
